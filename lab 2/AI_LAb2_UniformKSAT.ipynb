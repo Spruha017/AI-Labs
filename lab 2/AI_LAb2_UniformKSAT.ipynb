{
  "nbformat": 4,
  "nbformat_minor": 0,
  "metadata": {
    "colab": {
      "provenance": []
    },
    "kernelspec": {
      "name": "python3",
      "display_name": "Python 3"
    },
    "language_info": {
      "name": "python"
    }
  },
  "cells": [
    {
      "cell_type": "code",
      "execution_count": null,
      "metadata": {
        "id": "h7HGO4xsCqAo"
      },
      "outputs": [],
      "source": [
        "import random"
      ]
    },
    {
      "cell_type": "code",
      "source": [
        "def generateInstance(n, k, m):\n",
        "\n",
        "  vars = []\n",
        "  for i in range(n):\n",
        "    vars.append((chr(i + 65)))\n",
        "\n",
        "  problem = \"((\"\n",
        "  clause = []\n",
        "\n",
        "  for i in range(k * m):\n",
        "\n",
        "    x = random.choice(vars)\n",
        "    vars.remove(x)\n",
        "    clause.append(x)\n",
        "\n",
        "    if(i % k == k - 1):\n",
        "      while len(clause) != 0:\n",
        "        vars.append(clause.pop(0))\n",
        "\n",
        "    y = random.random()\n",
        "    if y < 0.5:\n",
        "      problem += \"~\"\n",
        "\n",
        "    problem += x\n",
        "\n",
        "    if i % k == k - 1 and i != (k * m - 1):\n",
        "      problem += \") and (\"\n",
        "    elif i != (k * m - 1):\n",
        "      problem += \" or \"\n",
        "\n",
        "  problem += \"))\"\n",
        "\n",
        "  return problem"
      ],
      "metadata": {
        "id": "fNTnJtaYC53a"
      },
      "execution_count": null,
      "outputs": []
    },
    {
      "cell_type": "code",
      "source": [
        "for i in range(10):\n",
        "  print(\"Problem \", i+1, \": \", generateInstance(12, 3, 4))"
      ],
      "metadata": {
        "id": "N6s-e7dsC67X",
        "outputId": "fbb4b702-5e97-439f-ecdb-812f49554b2f",
        "colab": {
          "base_uri": "https://localhost:8080/"
        }
      },
      "execution_count": null,
      "outputs": [
        {
          "output_type": "stream",
          "name": "stdout",
          "text": [
            "Problem  1 :  ((J or ~F or ~E) and (J or F or D) and (E or ~A or K) and (E or ~K or ~I))\n",
            "Problem  2 :  ((~I or E or G) and (L or ~F or ~I) and (~L or ~G or ~H) and (~L or J or ~D))\n",
            "Problem  3 :  ((L or I or ~D) and (~D or ~G or ~H) and (E or ~J or ~F) and (D or ~I or ~L))\n",
            "Problem  4 :  ((~I or ~K or ~J) and (D or A or ~L) and (~K or C or G) and (~H or ~L or G))\n",
            "Problem  5 :  ((L or B or D) and (A or J or D) and (F or ~G or I) and (K or L or B))\n",
            "Problem  6 :  ((~F or ~A or B) and (~G or B or K) and (~G or C or ~L) and (A or E or H))\n",
            "Problem  7 :  ((G or ~B or ~L) and (~H or ~B or ~D) and (~B or ~A or L) and (I or F or H))\n",
            "Problem  8 :  ((A or ~D or ~J) and (~B or ~A or ~H) and (E or ~A or ~D) and (L or H or ~D))\n",
            "Problem  9 :  ((I or G or ~B) and (E or G or ~K) and (K or ~I or ~C) and (~D or F or I))\n",
            "Problem  10 :  ((~E or J or D) and (~F or ~E or ~C) and (K or ~G or ~B) and (H or ~I or K))\n"
          ]
        }
      ]
    }
  ]
}