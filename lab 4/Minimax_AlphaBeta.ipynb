{
  "cells": [
    {
      "cell_type": "markdown",
      "metadata": {},
      "source": [
        "Lab 4 "
      ]
    },
    {
      "cell_type": "code",
      "execution_count": 1,
      "metadata": {
        "id": "cLTOmFgnUh0O"
      },
      "outputs": [],
      "source": [
        "import numpy as np"
      ]
    },
    {
      "cell_type": "code",
      "execution_count": 2,
      "metadata": {
        "id": "D0WYEcj_Uh0Z"
      },
      "outputs": [],
      "source": [
        "class Node():\n",
        "    \n",
        "    def __init__(self, state, depth, maximiser, player, parent=None,):\n",
        "        self.state = state\n",
        "        self.children = list()\n",
        "        self.score = 0\n",
        "        self.depth = depth\n",
        "        self.maximiser = maximiser\n",
        "        self.player = player\n",
        "        self.best_child = None\n",
        "        \n",
        "        if parent is not None:\n",
        "            parent.children.append(self)\n",
        "        "
      ]
    },
    {
      "cell_type": "code",
      "execution_count": 3,
      "metadata": {
        "id": "SQ0eNVrHUh0a"
      },
      "outputs": [],
      "source": [
        "class Environment():\n",
        "    \n",
        "    def __init__(self, initial_state=None):\n",
        "        \n",
        "        if initial_state is None:\n",
        "            self.initial_state = np.array([['.','.','.'],['.','.','.'],['.','.','.']])\n",
        "        else:\n",
        "            self.initial_state = initial_state\n",
        "    def get_moves(self, state, player):\n",
        "        \n",
        "        new_states = []\n",
        "        spaces = []\n",
        "        for i in range(3):\n",
        "            for j in range(3):\n",
        "                if state[i][j]=='.':\n",
        "                    new_state = state.copy()\n",
        "                    new_state[i,j] = player\n",
        "                    new_states.append(new_state)\n",
        "        \n",
        "        return new_states\n",
        "    \n",
        "    def check_terminal(self, state):\n",
        "        for i in range(3):\n",
        "            for j in range(3):\n",
        "                if state[i][j]=='.':\n",
        "                    return False\n",
        "        \n",
        "        return True\n",
        "    \n",
        "    def evaluate(self, state):\n",
        "        \n",
        "        for val in range(3):\n",
        "            if state[val,0] == state[val,1] == state[val,2]!='.':\n",
        "                if state[val, 0]=='x':\n",
        "                    return 1\n",
        "                else:\n",
        "                    return -1\n",
        "            \n",
        "            if state[0,val] == state[1,val] == state[2,val]!='.':\n",
        "                if state[0,val]=='x':\n",
        "                    return 1\n",
        "                else:\n",
        "                    return -1\n",
        "        \n",
        "        if state[0,0] == state[1,1] == state[2,2]!='.':\n",
        "            if state[0,0]=='x':\n",
        "                return 1\n",
        "            else:\n",
        "                return -1\n",
        "        \n",
        "        if state[0,2] == state[1,1] == state[2,0]!='.':\n",
        "            if state[0,2]=='x':\n",
        "                return 1\n",
        "            else:\n",
        "                return -1\n",
        "        \n",
        "        return 0\n",
        "\n",
        "    def get_initial_state(self):\n",
        "        return self.initial_state\n"
      ]
    },
    {
      "cell_type": "code",
      "execution_count": 4,
      "metadata": {
        "id": "sVKAPRV9BzJw"
      },
      "outputs": [],
      "source": [
        "class Minimax():\n",
        "    \n",
        "    def __init__(self, env, maximiser):\n",
        "        \n",
        "        self.env = env\n",
        "        self.initial_state = env.get_initial_state()\n",
        "        self.root_node = None\n",
        "        self.neginf = -10**15\n",
        "        self.posinf = 10**15\n",
        "        self.maximiser = maximiser\n",
        "        self.player = 'x' if maximiser else 'o';\n",
        "        self.explored_nodes = 0\n",
        "    \n",
        "    def minimax(self, node):\n",
        "        \n",
        "        self.explored_nodes+=1\n",
        "        score = self.env.evaluate(node.state)\n",
        "        if score!=0:\n",
        "            node.score = score\n",
        "            return node\n",
        "        \n",
        "        if self.env.check_terminal(node.state):\n",
        "            node.score = 0\n",
        "            return node\n",
        "        \n",
        "        if node.maximiser:\n",
        "            \n",
        "            best_score = self.neginf\n",
        "            best_depth = self.posinf\n",
        "            next_moves = self.env.get_moves(node.state, node.player)\n",
        "            for move in next_moves:\n",
        "                child = Node(state = move, depth=node.depth+1, \n",
        "                             maximiser=not node.maximiser, player='o', parent=node)\n",
        "                \n",
        "                child= self.minimax(child)\n",
        "                node.children.append(child)\n",
        "                \n",
        "                if best_score<child.score or (best_score==child.score and child.depth<best_depth):\n",
        "                    best_score = child.score\n",
        "                    best_depth = child.depth\n",
        "                    node.best_child = child\n",
        "            \n",
        "            node.depth = best_depth\n",
        "            node.score = best_score\n",
        "            \n",
        "            return node\n",
        "        \n",
        "        else:\n",
        "            best_score = self.posinf\n",
        "            best_depth = self.posinf\n",
        "            next_moves = self.env.get_moves(node.state, node.player)\n",
        "            \n",
        "            for move in next_moves:\n",
        "                child = Node(state = move, depth=node.depth+1, \n",
        "                             maximiser=not node.maximiser, player='x', parent=node)\n",
        "                child = self.minimax(child)\n",
        "                node.children.append(child)\n",
        "                \n",
        "                if best_score>child.score  or (best_score==child.score and child.depth<best_depth):\n",
        "                    best_score = child.score\n",
        "                    best_depth = child.depth\n",
        "                    node.best_child = child\n",
        "            \n",
        "            node.depth = best_depth\n",
        "            node.score = best_score\n",
        "            \n",
        "            return node\n",
        "\n",
        "    def run(self):\n",
        "        \n",
        "        self.root_node = Node(state=self.initial_state, depth=0, maximiser=self.maximiser,\n",
        "                             player=self.player, parent=None)\n",
        "        \n",
        "        self.root_node = self.minimax(node = self.root_node)\n",
        "        \n",
        "    def print_nodes(self):\n",
        "        \n",
        "        node = self.root_node\n",
        "        \n",
        "        while node is not None:\n",
        "            print(node.state)\n",
        "            node = node.best_child"
      ]
    },
    {
      "cell_type": "code",
      "execution_count": 5,
      "metadata": {
        "colab": {
          "base_uri": "https://localhost:8080/"
        },
        "id": "E9EGPWjICfki",
        "outputId": "de76f1c9-4c51-4d8d-e32a-a4de717627ea"
      },
      "outputs": [
        {
          "name": "stdout",
          "output_type": "stream",
          "text": [
            "Nodes Evaluated in Minimax Algorithm :  549946\n"
          ]
        }
      ],
      "source": [
        "initial_state = np.array([['.','.','.'],['.','.','.'],['.','.','.']])\n",
        "Env = Environment(initial_state = initial_state)\n",
        "minimax_agent = Minimax(Env, maximiser=True)\n",
        "minimax_agent.run()\n",
        "print(\"Nodes Evaluated in Minimax Algorithm : \",minimax_agent.explored_nodes)"
      ]
    },
    {
      "cell_type": "code",
      "execution_count": 8,
      "metadata": {
        "id": "ycB4ovtkUh0h"
      },
      "outputs": [],
      "source": [
        "class AlphaBeta():\n",
        "    \n",
        "    def __init__(self, env, maximiser):\n",
        "        \n",
        "        self.env = env\n",
        "        self.initial_state = env.get_initial_state()\n",
        "        self.root_node = None\n",
        "        self.neginf = -10**18\n",
        "        self.posinf = 10**18\n",
        "        self.maximiser = maximiser\n",
        "        self.player = 'x' if maximiser else 'o';\n",
        "        self.explored_nodes = 0\n",
        "    \n",
        "    \n",
        "    def minimax(self, node, alpha, beta):\n",
        "        \n",
        "        self.explored_nodes+=1\n",
        "        score = self.env.evaluate(node.state)\n",
        "        if score!=0:\n",
        "            node.score = score\n",
        "            return node\n",
        "        \n",
        "        if self.env.check_terminal(node.state):\n",
        "            node.score = 0\n",
        "            return node\n",
        "        \n",
        "        if node.maximiser:\n",
        "            \n",
        "            best_score = self.neginf\n",
        "            best_depth = self.posinf\n",
        "            next_moves = self.env.get_moves(node.state, node.player)\n",
        "            for move in next_moves:\n",
        "                child = Node(state = move, depth=node.depth+1, \n",
        "                             maximiser=not node.maximiser, player='o', parent=node)\n",
        "                \n",
        "                child= self.minimax(node = child, alpha=alpha, beta=beta)\n",
        "                node.children.append(child)\n",
        "                \n",
        "                if best_score<child.score or (best_score==child.score and child.depth<best_depth):\n",
        "                    best_score = child.score\n",
        "                    best_depth = child.depth\n",
        "                    node.best_child = child\n",
        "                \n",
        "                alpha = max(alpha, best_score)\n",
        "                if beta <= alpha:\n",
        "                    break\n",
        "            \n",
        "            node.depth = best_depth\n",
        "            node.score = best_score\n",
        "            \n",
        "            return node\n",
        "        \n",
        "        else:\n",
        "            best_score = self.posinf\n",
        "            best_depth = self.posinf\n",
        "            next_moves = self.env.get_moves(node.state, node.player)\n",
        "            \n",
        "            for move in next_moves:\n",
        "                child = Node(state = move, depth=node.depth+1, \n",
        "                             maximiser=not node.maximiser, player='x', parent=node)\n",
        "                \n",
        "                child = self.minimax(node = child, alpha=alpha, beta=beta)\n",
        "                node.children.append(child)\n",
        "                \n",
        "                if best_score>child.score  or (best_score==child.score and child.depth<best_depth):\n",
        "                    best_score = child.score\n",
        "                    best_depth = child.depth\n",
        "                    node.best_child = child\n",
        "                \n",
        "                beta = min(beta, best_score)\n",
        "                if beta<=alpha:\n",
        "                    break\n",
        "            \n",
        "            node.depth = best_depth\n",
        "            node.score = best_score\n",
        "            \n",
        "            return node\n",
        "\n",
        "    def run(self):\n",
        "        \n",
        "        self.root_node = Node(state=self.initial_state, depth=0, maximiser=self.maximiser,\n",
        "                             player=self.player, parent=None)\n",
        "        \n",
        "        self.root_node = self.minimax(node = self.root_node, alpha = self.neginf, beta = self.posinf)\n",
        "        \n",
        "    def print_nodes(self):\n",
        "        \n",
        "        node = self.root_node\n",
        "        \n",
        "        while node is not None:\n",
        "            print(node.state)\n",
        "            node = node.best_child"
      ]
    },
    {
      "cell_type": "code",
      "execution_count": 9,
      "metadata": {
        "colab": {
          "base_uri": "https://localhost:8080/"
        },
        "id": "UB7jhX4iUh0h",
        "outputId": "84d3bffe-6362-4867-e9f9-61e37b7203a4"
      },
      "outputs": [
        {
          "name": "stdout",
          "output_type": "stream",
          "text": [
            "Nodes Evaluated in Alpha-Beta Pruning Algorithm :  18297\n"
          ]
        }
      ],
      "source": [
        "initial_state = np.array([['.','.','.'],['.','.','.'],['.','.','.']])\n",
        "Env = Environment(initial_state = initial_state)\n",
        "AlphaBeta_agent = AlphaBeta(Env, maximiser=True)\n",
        "AlphaBeta_agent.run()\n",
        "print(\"Nodes Evaluated in Alpha-Beta Pruning Algorithm : \",AlphaBeta_agent.explored_nodes)"
      ]
    }
  ],
  "metadata": {
    "colab": {
      "provenance": []
    },
    "kernelspec": {
      "display_name": "Python 3",
      "language": "python",
      "name": "python3"
    },
    "language_info": {
      "codemirror_mode": {
        "name": "ipython",
        "version": 3
      },
      "file_extension": ".py",
      "mimetype": "text/x-python",
      "name": "python",
      "nbconvert_exporter": "python",
      "pygments_lexer": "ipython3",
      "version": "3.11.2"
    }
  },
  "nbformat": 4,
  "nbformat_minor": 0
}
